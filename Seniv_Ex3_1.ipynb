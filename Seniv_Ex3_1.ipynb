{
  "nbformat": 4,
  "nbformat_minor": 0,
  "metadata": {
    "colab": {
      "provenance": []
    },
    "kernelspec": {
      "name": "python3",
      "display_name": "Python 3"
    },
    "language_info": {
      "name": "python"
    }
  },
  "cells": [
    {
      "cell_type": "code",
      "execution_count": null,
      "metadata": {
        "colab": {
          "base_uri": "https://localhost:8080/"
        },
        "id": "mDzrKmdVB5Ht",
        "outputId": "6cef07fa-fd62-42ee-a73a-961e26216f47"
      },
      "outputs": [
        {
          "name": "stdout",
          "output_type": "stream",
          "text": [
            "Введіть ваше ім'я: Ivan\n",
            "Введіть ваш вік: 32\n"
          ]
        }
      ],
      "source": [
        "# Приклад більшого коду з обробкою декількох значень\n",
        "name = input(\"Введіть ваше ім'я: \")\n",
        "age = int(input(\"Введіть ваш вік: \"))\n",
        "\n",
        "# Визначення групи віку\n",
        "if age < 18:\n",
        "    age_group = \"неповнолітні\"\n",
        "elif age >= 18 and age <= 64:\n",
        "    age_group = \"дорослі\"\n",
        "else:\n",
        "    age_group = \"пенсіонери\"\n",
        "\n",
        "print(f\"{name}, ви входите до групи {age_group}.\")\n",
        "\n",
        "# Введення чисел для обчислень\n",
        "num1 = float(input(\"Введіть будь-яке перше число: \"))\n",
        "num2 = float(input(\"Введіть будь-яке друге\\ число: \"))\n",
        "\n",
        "# Обчислення суми та різниці\n",
        "сума = num1 + num2\n",
        "різниця = num1 - num2\n",
        "print(f\"Сума чисел: {сума}\")\n",
        "print(f\"Різниця чисел: {різниця}\")\n",
        "\n",
        "# Перевірка на парність\n",
        "if num1 % 2 == 0:\n",
        "    print(f\"{num1} є парним числом.\")\n",
        "else:\n",
        "    print(f\"{num1} є непарним числом.\")\n",
        "\n",
        "if num2 % 2 == 0:\n",
        "    print(f\"{num2} є парним числом.\")\n",
        "else:\n",
        "    print(f\"{num2} є непарним числом.\")\n"
      ]
    }
  ]
}